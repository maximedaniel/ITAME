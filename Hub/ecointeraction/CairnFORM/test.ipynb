{
 "cells": [
  {
   "cell_type": "code",
   "execution_count": 12,
   "metadata": {
    "collapsed": false
   },
   "outputs": [],
   "source": [
    "from EpicesParser import EpicesParser"
   ]
  },
  {
   "cell_type": "code",
   "execution_count": 14,
   "metadata": {
    "collapsed": false
   },
   "outputs": [
    {
     "name": "stdout",
     "output_type": "stream",
     "text": [
      "2018-05-06 04:00:00+00:00 0.0\n",
      "2018-05-06 05:00:00+00:00 0.0002\n",
      "2018-05-06 06:00:00+00:00 0.0274\n",
      "2018-05-06 07:00:00+00:00 0.0438\n",
      "2018-05-06 08:00:00+00:00 0.1632\n",
      "2018-05-06 09:00:00+00:00 0.3304\n",
      "2018-05-06 10:00:00+00:00 0.4988\n",
      "2018-05-06 11:00:00+00:00 0.6538\n",
      "2018-05-06 12:00:00+00:00 0.7572\n",
      "2018-05-06 13:00:00+00:00 0.8012\n",
      "2018-05-06 14:00:00+00:00 0.7806\n",
      "2018-05-06 15:00:00+00:00 0.6948\n",
      "2018-05-06 16:00:00+00:00 0.5598\n",
      "2018-05-06 17:00:00+00:00 0.3846\n",
      "2018-05-06 18:00:00+00:00 0.2002\n",
      "2018-05-06 19:00:00+00:00 0.0388\n",
      "2018-05-06 20:00:00+00:00 0.0004\n",
      "2018-05-06 21:00:00+00:00 0.0\n"
     ]
    }
   ],
   "source": [
    "epicesParser = EpicesParser('6bm-cRpuq5X3HwdphKU5x8lInv4')\n",
    "epicesParser.update()\n",
    "times = epicesParser.times\n",
    "productions = epicesParser.forecasts\n",
    "for timestamp, production in zip(times, productions):\n",
    "    print(timestamp, production)"
   ]
  },
  {
   "cell_type": "code",
   "execution_count": null,
   "metadata": {
    "collapsed": true
   },
   "outputs": [],
   "source": []
  }
 ],
 "metadata": {
  "kernelspec": {
   "display_name": "Python 3.6",
   "language": "python",
   "name": "python3.6"
  },
  "language_info": {
   "codemirror_mode": {
    "name": "ipython",
    "version": 3
   },
   "file_extension": ".py",
   "mimetype": "text/x-python",
   "name": "python",
   "nbconvert_exporter": "python",
   "pygments_lexer": "ipython3",
   "version": "3.6.0"
  }
 },
 "nbformat": 4,
 "nbformat_minor": 0
}
